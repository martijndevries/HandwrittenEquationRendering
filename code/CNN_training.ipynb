{
 "cells": [
  {
   "cell_type": "markdown",
   "id": "c6fab769-7359-4a8a-bd3f-0f2ff464231c",
   "metadata": {},
   "source": [
    "# EfficientNet CNN\n",
    "\n",
    "Notebook by Martijn de Vries <br>\n",
    "martijndevries91@gmail.com"
   ]
  },
  {
   "cell_type": "markdown",
   "id": "ddbb251d-5b88-4f2a-ab17-c62a89ce4559",
   "metadata": {},
   "source": [
    "NOTE: the EfficientNetB0 model that I use in this notebook has trouble saving with some version of tensorflow (versions 2.10 and higher) <br>\n",
    "I used the following fix to make it work on my machine (found in the comments here: https://github.com/keras-team/keras/issues/17199):\n",
    "\n",
    "location: lib/python3.10/site-packages/keras/applications/efficientnet.py (py3.10) <br>\n",
    "EDIT this: <br>\n",
    "<code> x = layers.Rescaling(1.0 / tf.math.sqrt(IMAGENET_STDDEV_RGB))(x) </code> <br>\n",
    "TO: <br>\n",
    "<code> x = layers.Rescaling(\n",
    "    [1.0 / math.sqrt(stddev) for stddev in IMAGENET_STDDEV_RGB]\n",
    ")(x) </code>\n",
    "\n"
   ]
  },
  {
   "cell_type": "code",
   "execution_count": 1,
   "id": "e447d2cd-c9aa-4237-a1b8-bafff7ed7028",
   "metadata": {},
   "outputs": [
    {
     "name": "stderr",
     "output_type": "stream",
     "text": [
      "2023-06-10 14:14:21.064779: I tensorflow/core/platform/cpu_feature_guard.cc:193] This TensorFlow binary is optimized with oneAPI Deep Neural Network Library (oneDNN) to use the following CPU instructions in performance-critical operations:  SSE4.1 SSE4.2\n",
      "To enable them in other operations, rebuild TensorFlow with the appropriate compiler flags.\n"
     ]
    }
   ],
   "source": [
    "import matplotlib.pyplot as plt\n",
    "import numpy as np\n",
    "import os \n",
    "\n",
    "#tensorflow\n",
    "import tensorflow as tf\n",
    "from tensorflow.keras.preprocessing import image_dataset_from_directory\n",
    "from tensorflow.keras.preprocessing.image import img_to_array, load_img, smart_resize\n",
    "from tensorflow.keras.layers import Dense, Dropout, Flatten, Conv2D, MaxPooling2D\n",
    "from tensorflow.keras.models import Sequential\n",
    "from tensorflow.keras import layers\n",
    "from tensorflow.keras.optimizers import Adam\n",
    "from tensorflow.keras import regularizers\n",
    "from tensorflow.keras.callbacks import EarlyStopping\n",
    "from tensorflow.keras.applications import EfficientNetB0"
   ]
  },
  {
   "cell_type": "code",
   "execution_count": 2,
   "id": "6d14b2c3-3868-4164-be57-2dfc885520d6",
   "metadata": {},
   "outputs": [],
   "source": [
    "np.random.seed(123)\n",
    "tf.random.set_seed(123)"
   ]
  },
  {
   "cell_type": "markdown",
   "id": "14a360b6-1216-4c74-9741-53817ce1c27a",
   "metadata": {},
   "source": [
    "I can use image_dataset_from_directory to load in the images.\n",
    "Note that even though the images are grayscale, i have to use rgb color mode because that's the format EfficientNet requires"
   ]
  },
  {
   "cell_type": "markdown",
   "id": "3353f501-2a7d-4626-8cbf-a855dc172db9",
   "metadata": {},
   "source": [
    "Let's look at the class names:"
   ]
  },
  {
   "cell_type": "code",
   "execution_count": 3,
   "id": "e41751b1-f19a-4bd4-9088-50d646458e66",
   "metadata": {},
   "outputs": [
    {
     "name": "stdout",
     "output_type": "stream",
     "text": [
      "Found 78792 files belonging to 100 classes.\n",
      "Using 70913 files for training.\n"
     ]
    },
    {
     "name": "stderr",
     "output_type": "stream",
     "text": [
      "2023-06-09 04:39:47.663780: I tensorflow/core/platform/cpu_feature_guard.cc:193] This TensorFlow binary is optimized with oneAPI Deep Neural Network Library (oneDNN) to use the following CPU instructions in performance-critical operations:  SSE4.1 SSE4.2\n",
      "To enable them in other operations, rebuild TensorFlow with the appropriate compiler flags.\n"
     ]
    },
    {
     "name": "stdout",
     "output_type": "stream",
     "text": [
      "Found 78792 files belonging to 100 classes.\n",
      "Using 7879 files for validation.\n"
     ]
    }
   ],
   "source": [
    "train_ds = image_dataset_from_directory('../img_data/train_symbols/', image_size=(100,100),\n",
    "                                      batch_size=200, seed=123, validation_split=0.10,\n",
    "                                       subset='training', labels ='inferred', color_mode='rgb', label_mode='categorical')  \n",
    "\n",
    "val_ds = image_dataset_from_directory('../img_data/train_symbols/', image_size=(100,100),\n",
    "                                      batch_size=200, seed=123, validation_split=0.10,\n",
    "                                       subset='validation', labels ='inferred', color_mode='rgb', label_mode='categorical')  "
   ]
  },
  {
   "cell_type": "code",
   "execution_count": 4,
   "id": "03739932-5475-47d4-92f0-e3a5278ffc66",
   "metadata": {},
   "outputs": [
    {
     "data": {
      "text/plain": [
       "['label_!', 'label_(', 'label_)', 'label_+', 'label_,']"
      ]
     },
     "execution_count": 4,
     "metadata": {},
     "output_type": "execute_result"
    }
   ],
   "source": [
    "train_ds.class_names[:5]"
   ]
  },
  {
   "cell_type": "markdown",
   "id": "6ab661af-f3d1-4f0b-9eb0-3b5882da2286",
   "metadata": {},
   "source": [
    "I'll want to save these, so I can access them when it's time to make predictions"
   ]
  },
  {
   "cell_type": "code",
   "execution_count": 5,
   "id": "e538f926-c23a-48c9-94b7-fc7238044ec7",
   "metadata": {},
   "outputs": [],
   "source": [
    "with open('../class_names.txt', 'w') as f:\n",
    "    for i, label in enumerate(train_ds.class_names):\n",
    "        f.write(str(i)+  ' ' + label + '\\n')\n",
    "        "
   ]
  },
  {
   "cell_type": "markdown",
   "id": "33bee089-042f-4d32-983e-13fe80355178",
   "metadata": {},
   "source": [
    "Let's also look at the images that are loaded in by image_dataset_from_directory"
   ]
  },
  {
   "cell_type": "code",
   "execution_count": 6,
   "id": "18858742-b54d-4b01-87e7-8c0f9646eb2a",
   "metadata": {},
   "outputs": [],
   "source": [
    "img_list = []\n",
    "for images, labels in train_ds.take(1):\n",
    "    for i in range(30):\n",
    "        img_list.append(images[i])"
   ]
  },
  {
   "cell_type": "code",
   "execution_count": 7,
   "id": "0ece2f1a-5b60-4633-8e91-39f2ec964b91",
   "metadata": {},
   "outputs": [
    {
     "data": {
      "text/plain": [
       "TensorShape([100, 100, 3])"
      ]
     },
     "execution_count": 7,
     "metadata": {},
     "output_type": "execute_result"
    }
   ],
   "source": [
    "img_list[3].shape"
   ]
  },
  {
   "cell_type": "code",
   "execution_count": 8,
   "id": "49053b1c-4992-46f3-9809-294971a4c149",
   "metadata": {},
   "outputs": [
    {
     "data": {
      "image/png": "[encoded data removed]",
      "text/plain": [
       "<Figure size 640x480 with 1 Axes>"
      ]
     },
     "metadata": {},
     "output_type": "display_data"
    }
   ],
   "source": [
    "plt.imshow(img_list[4][:,:,0], cmap='gray');"
   ]
  },
  {
   "cell_type": "markdown",
   "id": "801dcced-9ca1-4e44-a0da-8215cbc4e9a0",
   "metadata": {},
   "source": [
    "That looks alright! It's important that the size of the symbols is roughtly similar to the symbol size out of the pre-processing pipeline.\n",
    "\n",
    "Now we can set up the neural network. For optimal performance, I'll use the EfficientNetB0 network, and re-train it using my data"
   ]
  },
  {
   "cell_type": "code",
   "execution_count": 3,
   "id": "e8c966a2-2f01-4348-ba55-eee6f746d504",
   "metadata": {},
   "outputs": [],
   "source": [
    "es = EarlyStopping(patience=5)"
   ]
  },
  {
   "cell_type": "code",
   "execution_count": 17,
   "id": "367a9893-856a-437c-873f-f283bd9acd8a",
   "metadata": {},
   "outputs": [
    {
     "name": "stdout",
     "output_type": "stream",
     "text": [
      "Model: \"sequential_1\"\n",
      "_________________________________________________________________\n",
      " Layer (type)                Output Shape              Param #   \n",
      "=================================================================\n",
      " efficientnetb0 (Functional)  (None, 1280)             4049571   \n",
      "                                                                 \n",
      " dropout_2 (Dropout)         (None, 1280)              0         \n",
      "                                                                 \n",
      " dense_3 (Dense)             (None, 64)                81984     \n",
      "                                                                 \n",
      " dropout_3 (Dropout)         (None, 64)                0         \n",
      "                                                                 \n",
      " dense_4 (Dense)             (None, 64)                4160      \n",
      "                                                                 \n",
      " dense_5 (Dense)             (None, 100)               6500      \n",
      "                                                                 \n",
      "=================================================================\n",
      "Total params: 4,142,215\n",
      "Trainable params: 4,100,192\n",
      "Non-trainable params: 42,023\n",
      "_________________________________________________________________\n"
     ]
    }
   ],
   "source": [
    "efficient_net = EfficientNetB0(\n",
    "    weights='imagenet',\n",
    "    input_shape=(100,100, 3),\n",
    "    include_top=False,\n",
    "    pooling='max'\n",
    ")\n",
    "\n",
    "model = Sequential()\n",
    "model.add(efficient_net)\n",
    "model.add(Dropout(0.25))\n",
    "model.add(Dense(units = 64, activation='relu'))\n",
    "model.add(Dropout(0.25))\n",
    "model.add(Dense(units = 64, activation='relu'))\n",
    "model.add(Dense(units = 100, activation='softmax'))\n",
    "model.summary()\n",
    "\n",
    "\n",
    "model.compile(\n",
    "    optimizer=Adam(learning_rate = 0.0005),\n",
    "    loss=\"categorical_crossentropy\",\n",
    "    metrics=['accuracy']\n",
    ")"
   ]
  },
  {
   "cell_type": "markdown",
   "id": "9ea551f5-9574-4e5a-b7c3-b37fff7de841",
   "metadata": {},
   "source": [
    "Now we can fit:"
   ]
  },
  {
   "cell_type": "code",
   "execution_count": 18,
   "id": "57558867-9b0d-478b-81e2-d0ce34d8d5d9",
   "metadata": {},
   "outputs": [
    {
     "name": "stdout",
     "output_type": "stream",
     "text": [
      "Epoch 1/30\n",
      "355/355 [==============================] - 1185s 3s/step - loss: 1.2605 - accuracy: 0.7208 - val_loss: 0.3770 - val_accuracy: 0.9031\n",
      "Epoch 2/30\n",
      "355/355 [==============================] - 1249s 4s/step - loss: 0.3807 - accuracy: 0.9022 - val_loss: 0.2662 - val_accuracy: 0.9279\n",
      "Epoch 3/30\n",
      "355/355 [==============================] - 1275s 4s/step - loss: 0.2828 - accuracy: 0.9233 - val_loss: 0.2272 - val_accuracy: 0.9393\n",
      "Epoch 4/30\n",
      "355/355 [==============================] - 1249s 4s/step - loss: 0.2363 - accuracy: 0.9323 - val_loss: 0.2306 - val_accuracy: 0.9372\n",
      "Epoch 5/30\n",
      "355/355 [==============================] - 1124s 3s/step - loss: 0.2102 - accuracy: 0.9381 - val_loss: 0.2145 - val_accuracy: 0.9437\n",
      "Epoch 6/30\n",
      "355/355 [==============================] - 1111s 3s/step - loss: 0.1907 - accuracy: 0.9433 - val_loss: 0.2307 - val_accuracy: 0.9374\n",
      "Epoch 7/30\n",
      "355/355 [==============================] - 1214s 3s/step - loss: 0.1742 - accuracy: 0.9484 - val_loss: 0.1955 - val_accuracy: 0.9481\n",
      "Epoch 8/30\n",
      "355/355 [==============================] - 1257s 4s/step - loss: 0.1609 - accuracy: 0.9504 - val_loss: 0.2368 - val_accuracy: 0.9418\n",
      "Epoch 9/30\n",
      "355/355 [==============================] - 1228s 3s/step - loss: 0.1558 - accuracy: 0.9522 - val_loss: 0.2299 - val_accuracy: 0.9440\n",
      "Epoch 10/30\n",
      "355/355 [==============================] - 1231s 3s/step - loss: 0.1473 - accuracy: 0.9547 - val_loss: 0.2177 - val_accuracy: 0.9447\n",
      "Epoch 11/30\n",
      "355/355 [==============================] - 1220s 3s/step - loss: 0.1413 - accuracy: 0.9564 - val_loss: 0.2236 - val_accuracy: 0.9450\n",
      "Epoch 12/30\n",
      "355/355 [==============================] - 1298s 4s/step - loss: 0.1373 - accuracy: 0.9577 - val_loss: 0.2160 - val_accuracy: 0.9480\n"
     ]
    }
   ],
   "source": [
    "h = model.fit(train_ds, validation_data=val_ds, epochs=30, callbacks=[es])"
   ]
  },
  {
   "cell_type": "markdown",
   "id": "e1fcc4bc-8836-400e-97ef-fe23e1919368",
   "metadata": {},
   "source": [
    "We have an accuracy on the validation data of around 95%, which is pretty decent! Let's save the mdoe:"
   ]
  },
  {
   "cell_type": "code",
   "execution_count": 10,
   "id": "5601dae9-3686-4c68-a9ea-3cffa1f1e616",
   "metadata": {},
   "outputs": [],
   "source": [
    "model_dir = '../CNN_model/'\n",
    "if os.path.isdir(model_dir) == False: os.mkdir(model_dir)"
   ]
  },
  {
   "cell_type": "code",
   "execution_count": 19,
   "id": "6d7a29c5-30a9-42b5-83c6-2b956b2185e4",
   "metadata": {},
   "outputs": [],
   "source": [
    "model.save(model_dir + '/efficientnet_model_lw.h5')"
   ]
  }
 ],
 "metadata": {
  "kernelspec": {
   "display_name": "Python 3 (ipykernel)",
   "language": "python",
   "name": "python3"
  },
  "language_info": {
   "codemirror_mode": {
    "name": "ipython",
    "version": 3
   },
   "file_extension": ".py",
   "mimetype": "text/x-python",
   "name": "python",
   "nbconvert_exporter": "python",
   "pygments_lexer": "ipython3",
   "version": "3.8.8"
  }
 },
 "nbformat": 4,
 "nbformat_minor": 5
}
