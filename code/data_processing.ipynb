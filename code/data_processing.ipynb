{
 "cells": [
  {
   "cell_type": "markdown",
   "id": "e53b0e87-6130-4884-a8cc-afe0fd5fa5ea",
   "metadata": {},
   "source": [
    "# Data Processing\n",
    "\n",
    "Notebook to process the input data (inkML files) and convert into images of individual symbols, which can be used to train the model\n",
    "\n",
    "Notebook by Martijn de Vries <br>\n",
    "martijndevries91@gmail.com"
   ]
  },
  {
   "cell_type": "markdown",
   "id": "a41b3f08-2eea-4628-96ae-1d9a1b298237",
   "metadata": {},
   "source": [
    "## About the data\n",
    "\n",
    "The data used in this project was downloaded from Kaggle, here\n",
    "https://www.kaggle.com/datasets/rtatman/handwritten-mathematical-expressions\n",
    "\n",
    "Throughout this notebook, I will assume that the data directory is called 'inkml_data', and exists in the main repo folder"
   ]
  },
  {
   "cell_type": "code",
   "execution_count": 2,
   "id": "2c5b7c3d-4151-479f-9030-cead63a8fd7d",
   "metadata": {},
   "outputs": [],
   "source": [
    "import numpy as np\n",
    "import matplotlib.pyplot as plt\n",
    "\n",
    "#default libraries\n",
    "import os\n",
    "import glob\n",
    "import xml.etree.ElementTree as ET\n",
    "import shutil\n",
    "import random"
   ]
  },
  {
   "cell_type": "code",
   "execution_count": 33,
   "id": "edeefc5d-0c77-4b86-9afd-a30033ad9cbb",
   "metadata": {},
   "outputs": [
    {
     "data": {
      "text/plain": [
       "'1.23.5'"
      ]
     },
     "execution_count": 33,
     "metadata": {},
     "output_type": "execute_result"
    }
   ],
   "source": [
    "np.__version__"
   ]
  },
  {
   "cell_type": "code",
   "execution_count": 37,
   "id": "8c381537-4968-487a-9d1c-0b9aa3c56ad6",
   "metadata": {},
   "outputs": [
    {
     "data": {
      "text/plain": [
       "'3.7.1'"
      ]
     },
     "execution_count": 37,
     "metadata": {},
     "output_type": "execute_result"
    }
   ],
   "source": [
    "import matplotlib as mpl\n",
    "mpl.__version__"
   ]
  },
  {
   "cell_type": "code",
   "execution_count": 32,
   "id": "ef8a3c50-238f-4437-9564-d43b02a0d351",
   "metadata": {},
   "outputs": [],
   "source": [
    "#random seed\n",
    "np.random.seed(123)\n",
    "random.seed(123) #because I shuffle lists using random"
   ]
  },
  {
   "cell_type": "markdown",
   "id": "5693812e-24e9-428e-baa9-4c435c6a4d6b",
   "metadata": {},
   "source": [
    "### Exploring the data structure"
   ]
  },
  {
   "cell_type": "markdown",
   "id": "2696343c-e48b-4602-b7d3-88a4fc435ab0",
   "metadata": {},
   "source": [
    "The image data are in the form of inkML files, which follow an XML file structure.\n",
    "Each file contains 1) information about the coordinates of each stroke. 2) which strokes form a single character, 3) the character label, and 4) some additional metadata.\n",
    "\n",
    "I used this page: https://www.kaggle.com/code/kalikichandu/preprossing-inkml-to-png-files for help on how to parse inkML files. Some of the code in the following blocks is copied from there.\n",
    "\n",
    "Let first look at this for one single file. Load in a file and get the root"
   ]
  },
  {
   "cell_type": "code",
   "execution_count": 4,
   "id": "75da3664-aaa9-4486-9869-2a186643fa69",
   "metadata": {},
   "outputs": [],
   "source": [
    "inkml_folder = '../inkml_data/' #Change name as necessary"
   ]
  },
  {
   "cell_type": "code",
   "execution_count": 5,
   "id": "5b8d484d-8540-46c8-97b1-81fced666fce",
   "metadata": {},
   "outputs": [
    {
     "name": "stdout",
     "output_type": "stream",
     "text": [
      "loading file: ../inkml_data/CROHME_training_2011/TrainData1_5_sub_21.inkml\n"
     ]
    }
   ],
   "source": [
    "train_files = glob.glob(inkml_folder + 'CROHME_training_2011/*inkml')\n",
    "train_file = train_files[0]\n",
    "print(f'loading file: {train_file}')\n",
    "tree = ET.parse(train_file)\n",
    "root = tree.getroot()"
   ]
  },
  {
   "cell_type": "markdown",
   "id": "9bc4d5d0-1eff-41ba-841a-6ec7ff886473",
   "metadata": {},
   "source": [
    "Set the namespace (which is the same for all InkML files). We need this to get all the trace properties"
   ]
  },
  {
   "cell_type": "code",
   "execution_count": 6,
   "id": "cc1d9c60-29e2-4eb6-b2be-5bcd3e1914c2",
   "metadata": {},
   "outputs": [],
   "source": [
    "doc_namespace = \"{http://www.w3.org/2003/InkML}\""
   ]
  },
  {
   "cell_type": "markdown",
   "id": "669a464e-83cb-40e8-847b-6f6a87204a75",
   "metadata": {},
   "source": [
    "The full LateX label can be obtained as follows"
   ]
  },
  {
   "cell_type": "code",
   "execution_count": 7,
   "id": "c4c2514b-acdd-41a7-9c83-32861cb1c11f",
   "metadata": {},
   "outputs": [
    {
     "data": {
      "text/plain": [
       "'A = \\\\sqrt{a + \\\\frac{1}{\\\\sqrt{a + \\\\frac{1}{\\\\sqrt{a}}}}} + \\\\sqrt{b}'"
      ]
     },
     "execution_count": 7,
     "metadata": {},
     "output_type": "execute_result"
    }
   ],
   "source": [
    "full_eq = [label for label in root.findall(doc_namespace + 'annotation') if label.attrib == {'type': 'truth'}]\n",
    "full_eq[0].text"
   ]
  },
  {
   "cell_type": "markdown",
   "id": "8aeb04a2-11a2-4c05-89c7-948a0d8368a6",
   "metadata": {},
   "source": [
    "Extract info from all the traces"
   ]
  },
  {
   "cell_type": "code",
   "execution_count": 8,
   "id": "8c8ad979-1aaf-421d-87cb-378be84003ce",
   "metadata": {},
   "outputs": [],
   "source": [
    "ids = []\n",
    "coords = []\n",
    "for trace_tag in root.findall(doc_namespace + 'trace'):\n",
    "    ids.append(trace_tag.get('id'))\n",
    "    coords.append(trace_tag.text.strip())"
   ]
  },
  {
   "cell_type": "markdown",
   "id": "0352b6fe-7641-4751-8891-ef322a6f17b2",
   "metadata": {},
   "source": [
    "This obtains the ids and the coordinates for each individual stroke, or 'trace'. <br>\n",
    "Now let's split the coordinates in x and y, and plot the image"
   ]
  },
  {
   "cell_type": "code",
   "execution_count": 9,
   "id": "5779e1d1-f904-4fd8-ae23-ee745415e6a1",
   "metadata": {},
   "outputs": [],
   "source": [
    "xx = []\n",
    "yy = []\n",
    "for i in range(len(coords)):\n",
    "    \n",
    "    x = coords[i].split(' ')[::2]\n",
    "    xx.append([float(coord) for coord in x])\n",
    "    \n",
    "    y = coords[i].split(' ')[1::2]\n",
    "    yy.append([float(coord[:-1]) for coord in y])"
   ]
  },
  {
   "cell_type": "code",
   "execution_count": 48,
   "id": "0e49eb39-5802-49ab-ab6f-8cd566013f71",
   "metadata": {},
   "outputs": [
    {
     "data": {
      "image/png": "[encoded data removed]",
      "text/plain": [
       "<Figure size 2000x800 with 1 Axes>"
      ]
     },
     "metadata": {},
     "output_type": "display_data"
    }
   ],
   "source": [
    "fig, ax = plt.subplots(figsize=(20, 8))\n",
    "for i in range(len(xx)):\n",
    "    ax.plot(xx[i][:-1], yy[i][:-1], marker='o', markersize=3, linestyle='dashed') #for some reason the last coord is not part of the trace\n",
    "ax.set_aspect('equal', adjustable='box') #since this is writing it's important to have equal ax scales\n",
    "ax.invert_yaxis() #for some reason y=0 is at the top\n",
    "fig.savefig('../figures/inkml_example.png')"
   ]
  },
  {
   "cell_type": "markdown",
   "id": "2845640c-6f86-4b1a-8111-c56b08565aa3",
   "metadata": {},
   "source": [
    "Some characters (like the capital A and the equal sign in the above example) actually consist of multiple traces. I'll need the 'traceGroup' property so that I can figure out which traces belong together. I'll also need the label for that traceGroup.\n",
    "\n",
    "Sidenote: the above image illustrates pretty well why rendering an equation out of individual symbols is not a trivial problem: the symbols symbols aren't neatly side-by-side, and their location with respect to each other should change the way that the final equation is rendered (in this example, particularly in the fraction)."
   ]
  },
  {
   "cell_type": "code",
   "execution_count": 11,
   "id": "dcf3cb86-020e-4faa-b4ae-7406e58c7bea",
   "metadata": {},
   "outputs": [
    {
     "name": "stdout",
     "output_type": "stream",
     "text": [
      "Label:   A\n",
      "trace ids: [0, 1]\n",
      "Label:   =\n",
      "trace ids: [2, 3]\n",
      "Label:   \\sqrt\n",
      "trace ids: [4]\n",
      "Label:   a\n",
      "trace ids: [5]\n",
      "Label:   +\n",
      "trace ids: [6, 7]\n",
      "Label:   -\n",
      "trace ids: [14]\n",
      "Label:   1\n",
      "trace ids: [15]\n",
      "Label:   \\sqrt\n",
      "trace ids: [8]\n",
      "Label:   a\n",
      "trace ids: [9]\n",
      "Label:   +\n",
      "trace ids: [10, 11]\n",
      "Label:   -\n",
      "trace ids: [12]\n",
      "Label:   1\n",
      "trace ids: [13]\n",
      "Label:   \\sqrt\n",
      "trace ids: [20]\n",
      "Label:   a\n",
      "trace ids: [21]\n",
      "Label:   +\n",
      "trace ids: [16, 17]\n",
      "Label:   \\sqrt\n",
      "trace ids: [18]\n",
      "Label:   b\n",
      "trace ids: [19]\n"
     ]
    }
   ],
   "source": [
    "traceGroupWrapper = root.find(doc_namespace + 'traceGroup')\n",
    "if traceGroupWrapper is not None:\n",
    "    for traceGroup in traceGroupWrapper.findall(doc_namespace + 'traceGroup'):\n",
    "\n",
    "        label = traceGroup.find(doc_namespace + 'annotation').text\n",
    "        print(f'Label:   {label}')\n",
    "        \n",
    "        #traces of the current traceGroup\n",
    "        trace_ids = []\n",
    "        for traceView in traceGroup.findall(doc_namespace + 'traceView'):\n",
    "            traceDataRef = int(traceView.get('traceDataRef'))\n",
    "            trace_ids.append(traceDataRef)\n",
    "\n",
    "        print('trace ids:', trace_ids)\n"
   ]
  },
  {
   "cell_type": "markdown",
   "id": "4796c11f-e411-494b-a8c7-ffef053bd9b8",
   "metadata": {},
   "source": [
    "Putting all of the above together, I want to\n",
    "1) extract the traces that belong to a group, and the label of that group\n",
    "2) plot each tracegroup individually, and save this as an image that I can use to train the model on\n",
    "3) Rinse and repeat for each image"
   ]
  },
  {
   "cell_type": "code",
   "execution_count": 12,
   "id": "91f5bf18-5bce-4d3f-a31c-e3cbef0e4890",
   "metadata": {},
   "outputs": [],
   "source": [
    "def extract_tracegroup_info(inkML_file):\n",
    "    \"\"\"\n",
    "    Extract tracegroup and label information from an inkML file\n",
    "    Returns: \n",
    "        a dictionary, where each entry contains a single traceGroup\n",
    "        key: label_charnumber \n",
    "        value: a list of lists, where each list is the coordinates for a single trace within the traceGroup\n",
    "    \"\"\"\n",
    "    tree = ET.parse(inkML_file)\n",
    "    root = tree.getroot()\n",
    "\n",
    "    traces_dict = {}\n",
    "    for trace_tag in root.findall(doc_namespace + 'trace'):\n",
    "        #assign trace id and coords as a key-value pair\n",
    "        traces_dict[int(trace_tag.get('id'))] = trace_tag.text.strip()\n",
    "\n",
    "    traceGroup_dict = {}\n",
    "    traceGroupWrapper = root.find(doc_namespace + 'traceGroup')\n",
    "    if traceGroupWrapper is not None:\n",
    "        for j, traceGroup in enumerate(traceGroupWrapper.findall(doc_namespace + 'traceGroup')):\n",
    "\n",
    "            label = traceGroup.find(doc_namespace + 'annotation').text\n",
    "            tkey = label + '_' + str(j)\n",
    "            traceGroup_dict[tkey] = []\n",
    "            for traceView in traceGroup.findall(doc_namespace + 'traceView'):\n",
    "                traceDataRef = int(traceView.get('traceDataRef'))\n",
    "                traceGroup_dict[tkey].append([traces_dict[traceDataRef]])\n",
    "    return traceGroup_dict"
   ]
  },
  {
   "cell_type": "code",
   "execution_count": 13,
   "id": "8390eb18-2d19-450b-8920-6786e659eff3",
   "metadata": {},
   "outputs": [
    {
     "data": {
      "text/plain": [
       "dict_keys(['A_0', '=_1', '\\\\sqrt_2', 'a_3', '+_4', '-_5', '1_6', '\\\\sqrt_7', 'a_8', '+_9', '-_10', '1_11', '\\\\sqrt_12', 'a_13', '+_14', '\\\\sqrt_15', 'b_16'])"
      ]
     },
     "execution_count": 13,
     "metadata": {},
     "output_type": "execute_result"
    }
   ],
   "source": [
    "traceGroup_dict = extract_tracegroup_info(train_files[0])\n",
    "traceGroup_dict.keys()"
   ]
  },
  {
   "cell_type": "markdown",
   "id": "0f810349-93cb-4248-a55e-65efc7b2b394",
   "metadata": {},
   "source": [
    "I had to append the characternumber at the end there to avoid two characters with the same label being lumped together. But it looks like this will work.\n",
    "Now let's write another function to save each character as an image"
   ]
  },
  {
   "cell_type": "code",
   "execution_count": 14,
   "id": "5969cb1b-b92b-47ac-9eb8-9346a1564531",
   "metadata": {},
   "outputs": [],
   "source": [
    "def convert_coordinates(coords):\n",
    "    \"\"\"\n",
    "    Convert input coordinate list (which are in strings in the format [xx yy, xx yy, ...] into numerical x and y coordinate lists\n",
    "    Returns:\n",
    "        list of x and y coordinates\n",
    "    \"\"\"\n",
    "    \n",
    "    xx = [float(coord) for coord in coords[0].split(' ')[::2]]\n",
    "    yy = [float(coord.split(',')[0]) for coord in coords[0].split(' ')[1::2]] \n",
    "\n",
    "    return xx, yy"
   ]
  },
  {
   "cell_type": "markdown",
   "id": "36d37813-6470-48e5-ac6e-1be39bba4338",
   "metadata": {},
   "source": [
    "Note: opening and saving many figures in matplotlib results in memory issues over time, and caused my machine to crash - even when I call <code>plt.close(fig)</code> or explicitly delete the figure object with <code>del fig</code>. I tried calling gc.collect() after every iteration, but that seems to make things very slow. That's why I decided to simply use the same fig and ax objects every loop. I create them once, and then pass it through the function so I can re-use them in every iteration. See also: https://github.com/matplotlib/matplotlib/issues/8519 for more information on this issue."
   ]
  },
  {
   "cell_type": "code",
   "execution_count": 15,
   "id": "4164a4ab-5c84-4bb2-9c42-49e8760edf19",
   "metadata": {},
   "outputs": [],
   "source": [
    "def process_traceGroup_image(tracelabel, coords_ll, fig, ax, output_dir='processed_dir', file_nr=0, lw=2):\n",
    "    \"\"\"\n",
    "    Plot an input set of traceGroup coordinates, and save as an image with the labelname part of the filename\n",
    "    \"\"\"\n",
    "    ax.clear()\n",
    "    for coords in coords_ll: #coordinates of individual traces\n",
    "        xcoords, ycoords = convert_coordinates(coords)\n",
    "        ax.plot(xcoords, ycoords, color='black', linewidth=lw)\n",
    "    ax.set_aspect('equal', adjustable='box') #since this is writing it's important to have equal ax scales\n",
    "    ax.invert_yaxis() #for some reason y=0 is at the top\n",
    "    \n",
    "    #get rid of border, ticks, and ticklabels\n",
    "    ax.set_frame_on(False)\n",
    "    ax.tick_params(axis='both',which='both',bottom=False, left=False, labelbottom=False, labelleft=False) \n",
    "    \n",
    "    #save \n",
    "    if tracelabel[0] == '/': tracelabel = 'adiv' + tracelabel[1:] #because a '/' will not be interpreted as part of the filename\n",
    "    filename = tracelabel + '_' + str(file_nr)\n",
    "    fig.savefig(output_dir + '/' + filename)\n",
    "    \n",
    "    return fig, ax"
   ]
  },
  {
   "cell_type": "markdown",
   "id": "ee1b66fd-2de2-4e7e-b63a-34f40b43e2b6",
   "metadata": {},
   "source": [
    "Now we can go ahead and process the traceGroup images for this fil"
   ]
  },
  {
   "cell_type": "code",
   "execution_count": 49,
   "id": "7c8b28c1-689d-419c-812b-fb67d7e1644d",
   "metadata": {},
   "outputs": [
    {
     "data": {
      "image/png": "[encoded data removed]",
      "text/plain": [
       "<Figure size 640x480 with 1 Axes>"
      ]
     },
     "metadata": {},
     "output_type": "display_data"
    }
   ],
   "source": [
    "processed_dir = '../img_data/train_symbols_4/'\n",
    "fig, ax = plt.subplots() #i\n",
    "\n",
    "if os.path.isdir(processed_dir) == False: os.mkdir(processed_dir) #to save the images\n",
    "for k,v in traceGroup_dict.items():\n",
    "    fig, ax = process_traceGroup_image(k, v, fig, ax, processed_dir, 'test', lw=2)"
   ]
  },
  {
   "cell_type": "markdown",
   "id": "6f63e16f-ccb7-4a36-ace7-0d6a74d9ee33",
   "metadata": {},
   "source": [
    "From visually inspecting the files, that looks pretty good!"
   ]
  },
  {
   "cell_type": "code",
   "execution_count": 50,
   "id": "e5b9149d-8b87-4292-9d21-5a8698f4a873",
   "metadata": {},
   "outputs": [],
   "source": [
    "#delete the test images\n",
    "rm_files = glob.glob(processed_dir + '*png')\n",
    "for file in rm_files: os.remove(file)"
   ]
  },
  {
   "cell_type": "markdown",
   "id": "a5901a73-5ea6-4574-af8f-2edc49f4554c",
   "metadata": {},
   "source": [
    "### Saving Isolated Symbols"
   ]
  },
  {
   "cell_type": "markdown",
   "id": "4cb0acbe-248f-4a66-ae6d-24b21989fce5",
   "metadata": {},
   "source": [
    "I want to repeat this procedure of this for the all the files. Note that in the Kaggle dataset, only the training data has any labels attached to them.\n",
    "Therefore if I want to test the model performance in the end, I'll need to hold back some data from this set as well. \n",
    "The 2013 data set has a lot of single symbols as the 'equation files', which I don't necessarily want. Therefore I'll hold back 50% of the data from 2011 and 2012, and nothing from the 2013 data set. "
   ]
  },
  {
   "cell_type": "code",
   "execution_count": 21,
   "id": "c15c0aa4-32ab-4928-ae98-020b520ee80e",
   "metadata": {},
   "outputs": [
    {
     "name": "stdout",
     "output_type": "stream",
     "text": [
      "Number of equation files in the training set: 9966\n",
      "Number of equation files in the testing set: 1129\n"
     ]
    }
   ],
   "source": [
    "train_dirs = ['CROHME_training_2011', 'trainData_2012_part1', 'trainData_2012_part2', 'TrainINKML_2013']\n",
    "train_files = []\n",
    "test_files = []\n",
    "for i,train_dir in enumerate(train_dirs):\n",
    "    tot_files =  glob.glob(inkml_folder + train_dir + '/*inkml')\n",
    "    random.shuffle(tot_files)\n",
    "    test_idx = len(tot_files)//2\n",
    "    if i != 3:\n",
    "        train_files.extend(tot_files[test_idx:])\n",
    "        test_files.extend(tot_files[:test_idx])\n",
    "    else:\n",
    "        train_files.extend(tot_files[:])\n",
    "\n",
    "print('Number of equation files in the training set:', len(train_files))\n",
    "print('Number of equation files in the testing set:', len(test_files))"
   ]
  },
  {
   "cell_type": "markdown",
   "id": "fa0b3038-8c9d-45ad-b46b-56017c7f8777",
   "metadata": {},
   "source": [
    "As a final point of consideration - I want the model to be able to train on symbols with different sizes. I will randomly draw linewidth values from a normal distribution."
   ]
  },
  {
   "cell_type": "code",
   "execution_count": 317,
   "id": "e5638479-d6ea-4981-ad51-f5653d3aaae6",
   "metadata": {},
   "outputs": [
    {
     "data": {
      "image/png": "[encoded data removed]",
      "text/plain": [
       "<Figure size 640x480 with 1 Axes>"
      ]
     },
     "metadata": {},
     "output_type": "display_data"
    }
   ],
   "source": [
    "lw_samples = np.random.normal(loc=14, scale=2, size=1000)\n",
    "plt.hist(lw_samples,bins=30);"
   ]
  },
  {
   "cell_type": "markdown",
   "id": "d46fa086-f06a-4154-9376-0e50d8f3d879",
   "metadata": {},
   "source": [
    "The following code will create about 230 MB of images, and (on my machine) takes about an hour to run\n",
    "\n",
    "Note: the files in the 2013 INKML dataset with the 'MfrDB' label have weird coordinate systems (notation (xxx yyy zzzzzz,...) and I haven't been able to figure out how those add up to x and y coordinates. Therefore I'll exclude them for now."
   ]
  },
  {
   "cell_type": "code",
   "execution_count": 318,
   "id": "b5f8eb9f-7058-4865-8b87-25277b1180e3",
   "metadata": {},
   "outputs": [
    {
     "name": "stdout",
     "output_type": "stream",
     "text": [
      "Processed 0 out of 9966 inkML files\n",
      "Processed 250 out of 9966 inkML files\n",
      "Processed 500 out of 9966 inkML files\n",
      "Processed 750 out of 9966 inkML files\n",
      "Processed 1000 out of 9966 inkML files\n",
      "Processed 1250 out of 9966 inkML files\n",
      "Processed 1500 out of 9966 inkML files\n",
      "Processed 1750 out of 9966 inkML files\n",
      "Processed 2000 out of 9966 inkML files\n",
      "Processed 2250 out of 9966 inkML files\n",
      "Processed 2500 out of 9966 inkML files\n",
      "Processed 2750 out of 9966 inkML files\n",
      "Processed 3000 out of 9966 inkML files\n",
      "Processed 3250 out of 9966 inkML files\n",
      "Processed 3500 out of 9966 inkML files\n",
      "Processed 3750 out of 9966 inkML files\n",
      "Processed 4000 out of 9966 inkML files\n",
      "Processed 4250 out of 9966 inkML files\n",
      "Processed 4500 out of 9966 inkML files\n",
      "Processed 4750 out of 9966 inkML files\n",
      "Processed 5000 out of 9966 inkML files\n",
      "Processed 5250 out of 9966 inkML files\n",
      "Processed 5500 out of 9966 inkML files\n",
      "Processed 5750 out of 9966 inkML files\n",
      "Processed 6000 out of 9966 inkML files\n",
      "Processed 6250 out of 9966 inkML files\n",
      "Processed 6500 out of 9966 inkML files\n",
      "Processed 6750 out of 9966 inkML files\n",
      "Processed 7000 out of 9966 inkML files\n",
      "Processed 7250 out of 9966 inkML files\n",
      "Processed 7500 out of 9966 inkML files\n",
      "Processed 7750 out of 9966 inkML files\n",
      "Processed 8000 out of 9966 inkML files\n",
      "Processed 8250 out of 9966 inkML files\n",
      "Processed 8500 out of 9966 inkML files\n",
      "Processed 8750 out of 9966 inkML files\n",
      "Processed 9000 out of 9966 inkML files\n",
      "Processed 9250 out of 9966 inkML files\n",
      "Processed 9500 out of 9966 inkML files\n",
      "Processed 9750 out of 9966 inkML files\n"
     ]
    },
    {
     "data": {
      "image/png": "[encoded data removed]",
      "text/plain": [
       "<Figure size 150x150 with 1 Axes>"
      ]
     },
     "metadata": {},
     "output_type": "display_data"
    }
   ],
   "source": [
    "label_list = [] #to keep track of the total number of unique labels\n",
    "#calling it once and then re-using it for every image to avoid memory issues\n",
    "#dpi can be small, as individual symbols in a picture will not be high-quality images either way\n",
    "fig, ax = plt.subplots(figsize=(3, 3), dpi=50) \n",
    "\n",
    "#I want to save larger symbols with a smaller linewidth\n",
    "larger_symbols = ['\\\\sin', '\\\\tan', '\\\\cos', '\\\\log', '\\\\lim', '\\\\sum']\n",
    "for i, file in enumerate(train_files):\n",
    "    if i%250==0: print(f'Processed {i} out of {len(train_files)} inkML files')\n",
    "    if 'MfrDB' in  file: continue\n",
    "    traceGroup_dict = extract_tracegroup_info(file)\n",
    "    for t, (k,v) in enumerate(traceGroup_dict.items()):\n",
    "        label_list.append(k.split('_')[0])\n",
    "        if k.split('_')[0] in larger_symbols:\n",
    "            lw_loc = 12 #should maybe decrease\n",
    "        else:\n",
    "            lw_loc = 14\n",
    "        fig, ax = process_traceGroup_image(k, v, fig, ax, processed_dir, i, lw=np.random.normal(loc=lw_loc, scale=2))"
   ]
  },
  {
   "cell_type": "code",
   "execution_count": 27,
   "id": "bdd924eb-ea1b-4929-8169-00584b9c86f4",
   "metadata": {},
   "outputs": [
    {
     "name": "stdout",
     "output_type": "stream",
     "text": [
      "Processed 0 out of 9966 inkML files\n",
      "Processed 250 out of 9966 inkML files\n",
      "Processed 500 out of 9966 inkML files\n",
      "Processed 750 out of 9966 inkML files\n",
      "Processed 1000 out of 9966 inkML files\n",
      "Processed 1250 out of 9966 inkML files\n",
      "Processed 1500 out of 9966 inkML files\n",
      "Processed 1750 out of 9966 inkML files\n",
      "Processed 2000 out of 9966 inkML files\n",
      "Processed 2250 out of 9966 inkML files\n",
      "Processed 2500 out of 9966 inkML files\n",
      "Processed 2750 out of 9966 inkML files\n",
      "Processed 3000 out of 9966 inkML files\n",
      "Processed 3250 out of 9966 inkML files\n",
      "Processed 3500 out of 9966 inkML files\n",
      "Processed 3750 out of 9966 inkML files\n",
      "Processed 4000 out of 9966 inkML files\n",
      "Processed 4250 out of 9966 inkML files\n",
      "Processed 4500 out of 9966 inkML files\n",
      "Processed 4750 out of 9966 inkML files\n",
      "Processed 5000 out of 9966 inkML files\n",
      "Processed 5250 out of 9966 inkML files\n",
      "Processed 5500 out of 9966 inkML files\n",
      "Processed 5750 out of 9966 inkML files\n",
      "Processed 6000 out of 9966 inkML files\n",
      "Processed 6250 out of 9966 inkML files\n",
      "Processed 6500 out of 9966 inkML files\n",
      "Processed 6750 out of 9966 inkML files\n",
      "Processed 7000 out of 9966 inkML files\n",
      "Processed 7250 out of 9966 inkML files\n",
      "Processed 7500 out of 9966 inkML files\n",
      "Processed 7750 out of 9966 inkML files\n",
      "Processed 8000 out of 9966 inkML files\n",
      "Processed 8250 out of 9966 inkML files\n",
      "Processed 8500 out of 9966 inkML files\n",
      "Processed 8750 out of 9966 inkML files\n",
      "Processed 9000 out of 9966 inkML files\n",
      "Processed 9250 out of 9966 inkML files\n",
      "Processed 9500 out of 9966 inkML files\n",
      "Processed 9750 out of 9966 inkML files\n"
     ]
    },
    {
     "data": {
      "image/png": "[encoded data removed]",
      "text/plain": [
       "<Figure size 150x150 with 1 Axes>"
      ]
     },
     "metadata": {},
     "output_type": "display_data"
    }
   ],
   "source": [
    "label_list = [] #to keep track of the total number of unique labels\n",
    "#calling it once and then re-using it for every image to avoid memory issues\n",
    "#dpi can be small, as individual symbols in a picture will not be high-quality images either way\n",
    "fig, ax = plt.subplots(figsize=(3, 3), dpi=50) \n",
    "\n",
    "#I want to save larger symbols with a smaller linewidth\n",
    "larger_symbols = ['\\\\sin', '\\\\tan', '\\\\cos', '\\\\log', '\\\\lim', '\\\\sum']\n",
    "for i, file in enumerate(train_files):\n",
    "    if i%250==0: print(f'Processed {i} out of {len(train_files)} inkML files')\n",
    "    if 'MfrDB' in  file: continue\n",
    "    traceGroup_dict = extract_tracegroup_info(file)\n",
    "    for t, (k,v) in enumerate(traceGroup_dict.items()):\n",
    "        label_list.append(k.split('_')[0])\n",
    "        if k.split('_')[0] in larger_symbols:\n",
    "            lw_loc = 10 #should maybe decrease\n",
    "        else:\n",
    "            lw_loc = 14\n",
    "        fig, ax = process_traceGroup_image(k, v, fig, ax, processed_dir, i, lw=np.random.normal(loc=lw_loc, scale=3))"
   ]
  },
  {
   "cell_type": "code",
   "execution_count": 43,
   "id": "01475d0e-ce5d-4031-9bc6-c4b0845d3dec",
   "metadata": {},
   "outputs": [
    {
     "name": "stdout",
     "output_type": "stream",
     "text": [
      "Processed 0 out of 9966 inkML files\n",
      "Processed 250 out of 9966 inkML files\n",
      "Processed 500 out of 9966 inkML files\n",
      "Processed 750 out of 9966 inkML files\n",
      "Processed 1000 out of 9966 inkML files\n",
      "Processed 1250 out of 9966 inkML files\n",
      "Processed 1500 out of 9966 inkML files\n",
      "Processed 1750 out of 9966 inkML files\n",
      "Processed 2000 out of 9966 inkML files\n",
      "Processed 2250 out of 9966 inkML files\n",
      "Processed 2500 out of 9966 inkML files\n",
      "Processed 2750 out of 9966 inkML files\n",
      "Processed 3000 out of 9966 inkML files\n",
      "Processed 3250 out of 9966 inkML files\n",
      "Processed 3500 out of 9966 inkML files\n",
      "Processed 3750 out of 9966 inkML files\n",
      "Processed 4000 out of 9966 inkML files\n",
      "Processed 4250 out of 9966 inkML files\n",
      "Processed 4500 out of 9966 inkML files\n",
      "Processed 4750 out of 9966 inkML files\n",
      "Processed 5000 out of 9966 inkML files\n",
      "Processed 5250 out of 9966 inkML files\n",
      "Processed 5500 out of 9966 inkML files\n",
      "Processed 5750 out of 9966 inkML files\n",
      "Processed 6000 out of 9966 inkML files\n",
      "Processed 6250 out of 9966 inkML files\n",
      "Processed 6500 out of 9966 inkML files\n",
      "Processed 6750 out of 9966 inkML files\n",
      "Processed 7000 out of 9966 inkML files\n",
      "Processed 7250 out of 9966 inkML files\n",
      "Processed 7500 out of 9966 inkML files\n",
      "Processed 7750 out of 9966 inkML files\n",
      "Processed 8000 out of 9966 inkML files\n",
      "Processed 8250 out of 9966 inkML files\n",
      "Processed 8500 out of 9966 inkML files\n",
      "Processed 8750 out of 9966 inkML files\n",
      "Processed 9000 out of 9966 inkML files\n",
      "Processed 9250 out of 9966 inkML files\n",
      "Processed 9500 out of 9966 inkML files\n",
      "Processed 9750 out of 9966 inkML files\n"
     ]
    },
    {
     "data": {
      "image/png": "[encoded data removed]",
      "text/plain": [
       "<Figure size 150x150 with 1 Axes>"
      ]
     },
     "metadata": {},
     "output_type": "display_data"
    }
   ],
   "source": [
    "label_list = [] #to keep track of the total number of unique labels\n",
    "#calling it once and then re-using it for every image to avoid memory issues\n",
    "#dpi can be small, as individual symbols in a picture will not be high-quality images either way\n",
    "fig, ax = plt.subplots(figsize=(3, 3), dpi=50) \n",
    "\n",
    "#I want to save larger symbols with a smaller linewidth\n",
    "larger_symbols = ['\\\\sin', '\\\\tan', '\\\\cos', '\\\\log', '\\\\lim', '\\\\sum']\n",
    "for i, file in enumerate(train_files):\n",
    "    if i%250==0: print(f'Processed {i} out of {len(train_files)} inkML files')\n",
    "    if 'MfrDB' in  file: continue\n",
    "    traceGroup_dict = extract_tracegroup_info(file)\n",
    "    for t, (k,v) in enumerate(traceGroup_dict.items()):\n",
    "        label_list.append(k.split('_')[0])\n",
    "        if k.split('_')[0] in larger_symbols:\n",
    "            lw_loc = 9 #should maybe decrease\n",
    "        else:\n",
    "            lw_loc = 12\n",
    "        fig, ax = process_traceGroup_image(k, v, fig, ax, processed_dir, i, lw=np.random.normal(loc=lw_loc, scale=3.2))"
   ]
  },
  {
   "cell_type": "code",
   "execution_count": null,
   "id": "124e6462-faf0-4988-8dd8-39bdca2233d9",
   "metadata": {},
   "outputs": [
    {
     "name": "stdout",
     "output_type": "stream",
     "text": [
      "Processed 0 out of 9966 inkML files\n",
      "Processed 250 out of 9966 inkML files\n",
      "Processed 500 out of 9966 inkML files\n",
      "Processed 750 out of 9966 inkML files\n",
      "Processed 1000 out of 9966 inkML files\n",
      "Processed 1250 out of 9966 inkML files\n",
      "Processed 1500 out of 9966 inkML files\n",
      "Processed 1750 out of 9966 inkML files\n",
      "Processed 2000 out of 9966 inkML files\n",
      "Processed 2250 out of 9966 inkML files\n",
      "Processed 2500 out of 9966 inkML files\n",
      "Processed 2750 out of 9966 inkML files\n",
      "Processed 3000 out of 9966 inkML files\n",
      "Processed 3250 out of 9966 inkML files\n",
      "Processed 3500 out of 9966 inkML files\n",
      "Processed 3750 out of 9966 inkML files\n",
      "Processed 4000 out of 9966 inkML files\n",
      "Processed 4250 out of 9966 inkML files\n",
      "Processed 4500 out of 9966 inkML files\n"
     ]
    }
   ],
   "source": [
    "label_list = [] #to keep track of the total number of unique labels\n",
    "#calling it once and then re-using it for every image to avoid memory issues\n",
    "#dpi can be small, as individual symbols in a picture will not be high-quality images either way\n",
    "fig, ax = plt.subplots(figsize=(3, 3), dpi=50) \n",
    "\n",
    "#I want to save larger symbols with a smaller linewidth\n",
    "larger_symbols = ['\\\\sin', '\\\\tan', '\\\\cos', '\\\\log', '\\\\lim', '\\\\sum']\n",
    "for i, file in enumerate(train_files):\n",
    "    if i%250==0: print(f'Processed {i} out of {len(train_files)} inkML files')\n",
    "    if 'MfrDB' in  file: continue\n",
    "    traceGroup_dict = extract_tracegroup_info(file)\n",
    "    for t, (k,v) in enumerate(traceGroup_dict.items()):\n",
    "        label_list.append(k.split('_')[0])\n",
    "        if k.split('_')[0] in larger_symbols:\n",
    "            lw_loc = 7 #should maybe decrease\n",
    "        else:\n",
    "            lw_loc = 9\n",
    "        fig, ax = process_traceGroup_image(k, v, fig, ax, processed_dir, i, lw=np.random.normal(loc=lw_loc, scale=3))"
   ]
  },
  {
   "cell_type": "markdown",
   "id": "e7b3aefa-1d44-4703-8575-8a7a6ac7c256",
   "metadata": {},
   "source": [
    "Now let's change the file structure into a format that we can easily feed to keras image_dataset_from_directory"
   ]
  },
  {
   "cell_type": "code",
   "execution_count": 44,
   "id": "9c8589ea-859d-4d8e-97d0-e09385868f7b",
   "metadata": {},
   "outputs": [],
   "source": [
    "all_files = glob.glob(processed_dir + '*png')"
   ]
  },
  {
   "cell_type": "code",
   "execution_count": 45,
   "id": "37005aca-e50d-4222-94d2-83f225cc272a",
   "metadata": {},
   "outputs": [],
   "source": [
    "label_file_dict = {}\n",
    "for file in all_files:\n",
    "    label = file.split('/')[-1].split('_')[0]\n",
    "    if (label.isalpha() == True) and (label == label.upper()):\n",
    "        label = 'capital_' + label\n",
    "    dirname = processed_dir + 'label_' + label\n",
    "    if os.path.isdir(dirname) == False: \n",
    "        os.mkdir(dirname)\n",
    "        label_file_dict[label] = 1\n",
    "    else:\n",
    "        label_file_dict[label] += 1\n",
    "    new_filename = 'img_' + str(label_file_dict[label]) + '.png'\n",
    "    \n",
    "    shutil.copy(file, dirname + '/' + new_filename)"
   ]
  },
  {
   "cell_type": "code",
   "execution_count": 46,
   "id": "252933f4-a339-46d1-b4c5-540e1d7b6ee4",
   "metadata": {},
   "outputs": [
    {
     "name": "stdout",
     "output_type": "stream",
     "text": [
      "dict_keys(['1', '=', '+', '\\\\int', 'n', '\\\\div', 'u', '-', ')', '2', '\\\\sqrt', '\\\\theta', 'x', 'a', 'capital_B', '(', '6', 'y', 'f', '3', 'c', '0', '\\\\times', 'capital_A', '\\\\pi', 'k', 'm', 'd', '8', '\\\\log', 'z', 'e', 'b', 'i', '\\\\ldots', 'capital_L', '\\\\mu', 'capital_C', 't', '\\\\infty', '\\\\lim', '\\\\lambda', '5', '7', 'j', 'o', 'capital_F', '\\\\alpha', 'capital_G', 'capital_X', 'h', '4', '\\\\sin', 'p', 'r', '\\\\}', 'capital_V', 'capital_E', 'capital_M', '[', '\\\\rightarrow', '\\\\cos', 's', '\\\\sum', '\\\\tan', '9', ',', '\\\\{', '\\\\prime', 'capital_H', 'w', '|', '\\\\beta', '\\\\gamma', '\\\\geq', 'g', 'l', 'v', 'q', '\\\\leq', 'capital_I', 'capital_S', '\\\\pm', 'capital_N', 'adiv', '!', '\\\\neq', '\\\\gt', '\\\\phi', '\\\\sigma', ']', 'capital_P', '\\\\forall', 'capital_Y', 'capital_R', 'capital_T', '\\\\Delta', '\\\\exists', '\\\\lt', '\\\\in'])\n"
     ]
    }
   ],
   "source": [
    "print(label_file_dict.keys())"
   ]
  },
  {
   "cell_type": "markdown",
   "id": "1608a490-7b80-45a1-b951-f0b7eda09fb9",
   "metadata": {},
   "source": [
    "Now we can remove all the files I just copied from"
   ]
  },
  {
   "cell_type": "code",
   "execution_count": 47,
   "id": "85bc8202-042a-4114-b402-2d9900c81d01",
   "metadata": {},
   "outputs": [],
   "source": [
    "files_to_remove = glob.glob(processed_dir + '*png')\n",
    "for file in files_to_remove:\n",
    "    os.remove(file)"
   ]
  },
  {
   "cell_type": "markdown",
   "id": "35c3d697-60c9-42f6-b2a4-d5a83ff15e33",
   "metadata": {},
   "source": [
    "### Saving full equations"
   ]
  },
  {
   "cell_type": "markdown",
   "id": "76d9399c-d54e-48e2-8a4c-e7ae79b1ac6f",
   "metadata": {},
   "source": [
    "Secondly, I'd also like to save some full equations as images, so that I can figure out how well I can use opencv's findContours() function to resolve individual symbols within an equation, and to test how well my pipeline works ultimately. I will use the test data that I held back for this, in the 'test_files' list"
   ]
  },
  {
   "cell_type": "code",
   "execution_count": 22,
   "id": "1ab848f6-4de1-4b4c-9283-8d1e7de5beba",
   "metadata": {},
   "outputs": [],
   "source": [
    "full_eq_dir = '../img_data/full_equations/'\n",
    "if os.path.isdir(full_eq_dir) == False: os.mkdir(full_eq_dir)"
   ]
  },
  {
   "cell_type": "markdown",
   "id": "9ec28ce6-b769-40fb-8ee2-ae09f718cf4e",
   "metadata": {},
   "source": [
    "I will save the labels in a txt file called eq_labels.txt, where the label for eg. full_eq_23.png corresponds with the 24th line in the txt file (since we're starting at zero)."
   ]
  },
  {
   "cell_type": "code",
   "execution_count": 23,
   "id": "8f09267a-bfb7-4495-9417-45c5788c4e50",
   "metadata": {},
   "outputs": [],
   "source": [
    "def get_full_eq_label(inkML_file):\n",
    "    \"\"\"\n",
    "    Given an input inkML file, return the full equation string\n",
    "    \"\"\"\n",
    "    tree = ET.parse(inkML_file)\n",
    "    root = tree.getroot()\n",
    "    full_eq = [label for label in root.findall(doc_namespace + 'annotation') if label.attrib == {'type': 'truth'}]\n",
    "    return full_eq[0].text"
   ]
  },
  {
   "cell_type": "code",
   "execution_count": 24,
   "id": "0f5ae633-7b34-412d-9f2b-698d701133b4",
   "metadata": {},
   "outputs": [
    {
     "data": {
      "image/png": "[encoded data removed]",
      "text/plain": [
       "<Figure size 640x480 with 1 Axes>"
      ]
     },
     "metadata": {},
     "output_type": "display_data"
    }
   ],
   "source": [
    "write_eq = open(full_eq_dir + 'eq_labels.txt', 'w')\n",
    "    \n",
    "fig, ax = plt.subplots()\n",
    "for i, file in enumerate(test_files):\n",
    "    if 'MfrDB' in  file: continue\n",
    "\n",
    "    traceGroup_dict = extract_tracegroup_info(file)\n",
    "    full_eq_string = get_full_eq_label(file)\n",
    "    write_eq.write('eq ' + str(i)  + '::  ' + full_eq_string + ' \\n')\n",
    "    tot_coords = []\n",
    "    for k,v in traceGroup_dict.items():\n",
    "        tot_coords.extend(v)\n",
    "    fig, ax = process_traceGroup_image('full_eq', tot_coords, fig, ax, full_eq_dir, i)\n",
    "    \n",
    "write_eq.close()"
   ]
  },
  {
   "cell_type": "code",
   "execution_count": null,
   "id": "4fa03291-167d-43ad-af2e-f3ce83352692",
   "metadata": {},
   "outputs": [],
   "source": []
  }
 ],
 "metadata": {
  "kernelspec": {
   "display_name": "Python 3 (ipykernel)",
   "language": "python",
   "name": "python3"
  },
  "language_info": {
   "codemirror_mode": {
    "name": "ipython",
    "version": 3
   },
   "file_extension": ".py",
   "mimetype": "text/x-python",
   "name": "python",
   "nbconvert_exporter": "python",
   "pygments_lexer": "ipython3",
   "version": "3.8.8"
  }
 },
 "nbformat": 4,
 "nbformat_minor": 5
}
