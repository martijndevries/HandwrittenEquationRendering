{
 "cells": [
  {
   "cell_type": "markdown",
   "id": "c6fab769-7359-4a8a-bd3f-0f2ff464231c",
   "metadata": {},
   "source": [
    "# EfficientNet CNN\n",
    "\n",
    "Notebook by Martijn de Vries <br>\n",
    "martijndevries91@gmail.com"
   ]
  },
  {
   "cell_type": "markdown",
   "id": "ddbb251d-5b88-4f2a-ab17-c62a89ce4559",
   "metadata": {},
   "source": [
    "NOTE: the EfficientNetB0 model that I use in this notebook has trouble saving with some version of tensorflow (probably 2.10 and higher) <br>\n",
    "I used the following fix to make it work on my machine (found in the comments here: https://github.com/keras-team/keras/issues/17199):\n",
    "\n",
    "location: lib/python3.10/site-packages/keras/applications/efficientnet.py (py3.10) <br>\n",
    "EDIT this: <br>\n",
    "<code> x = layers.Rescaling(1.0 / tf.math.sqrt(IMAGENET_STDDEV_RGB))(x) </code> <br>\n",
    "TO: <br>\n",
    "<code> x = layers.Rescaling(\n",
    "    [1.0 / math.sqrt(stddev) for stddev in IMAGENET_STDDEV_RGB]\n",
    ")(x) </code>\n",
    "\n"
   ]
  },
  {
   "cell_type": "code",
   "execution_count": 1,
   "id": "e447d2cd-c9aa-4237-a1b8-bafff7ed7028",
   "metadata": {},
   "outputs": [
    {
     "name": "stderr",
     "output_type": "stream",
     "text": [
      "2023-06-03 10:57:30.511871: I tensorflow/core/platform/cpu_feature_guard.cc:193] This TensorFlow binary is optimized with oneAPI Deep Neural Network Library (oneDNN) to use the following CPU instructions in performance-critical operations:  SSE4.1 SSE4.2\n",
      "To enable them in other operations, rebuild TensorFlow with the appropriate compiler flags.\n"
     ]
    }
   ],
   "source": [
    "import matplotlib.pyplot as plt\n",
    "import numpy as np\n",
    "import os \n",
    "\n",
    "#tensorflow\n",
    "from tensorflow.keras.preprocessing import image_dataset_from_directory\n",
    "from tensorflow.keras.preprocessing.image import img_to_array, load_img, smart_resize\n",
    "from tensorflow.keras.layers import Dense, Dropout, Flatten, Conv2D, MaxPooling2D\n",
    "from tensorflow.keras.models import Sequential\n",
    "from tensorflow.keras import layers\n",
    "from tensorflow.keras.optimizers import Adam\n",
    "from tensorflow.keras import regularizers\n",
    "from tensorflow.keras.callbacks import EarlyStopping\n",
    "\n",
    "from tensorflow.keras.applications import EfficientNetB0"
   ]
  },
  {
   "cell_type": "code",
   "execution_count": 2,
   "id": "6d14b2c3-3868-4164-be57-2dfc885520d6",
   "metadata": {},
   "outputs": [],
   "source": [
    "np.random.seed(123)"
   ]
  },
  {
   "cell_type": "markdown",
   "id": "14a360b6-1216-4c74-9741-53817ce1c27a",
   "metadata": {},
   "source": [
    "I can use image_dataset_from_directory to load in the images.\n",
    "Note that even though the images are grayscale, i have to use rgb color mode because that's the format EfficientNet requires"
   ]
  },
  {
   "cell_type": "code",
   "execution_count": 3,
   "id": "e41751b1-f19a-4bd4-9088-50d646458e66",
   "metadata": {},
   "outputs": [
    {
     "name": "stdout",
     "output_type": "stream",
     "text": [
      "Found 93020 files belonging to 100 classes.\n",
      "Using 79067 files for training.\n"
     ]
    },
    {
     "name": "stderr",
     "output_type": "stream",
     "text": [
      "2023-06-03 10:57:38.870012: I tensorflow/core/platform/cpu_feature_guard.cc:193] This TensorFlow binary is optimized with oneAPI Deep Neural Network Library (oneDNN) to use the following CPU instructions in performance-critical operations:  SSE4.1 SSE4.2\n",
      "To enable them in other operations, rebuild TensorFlow with the appropriate compiler flags.\n"
     ]
    },
    {
     "name": "stdout",
     "output_type": "stream",
     "text": [
      "Found 93020 files belonging to 100 classes.\n",
      "Using 13953 files for validation.\n"
     ]
    }
   ],
   "source": [
    "train_ds = image_dataset_from_directory('../processed_images/', image_size=(100,100),\n",
    "                                      batch_size=200, seed=123, validation_split=0.15,\n",
    "                                       subset='training', labels ='inferred', color_mode='rgb', label_mode='categorical')  \n",
    "\n",
    "val_ds = image_dataset_from_directory('../processed_images/', image_size=(100,100),\n",
    "                                      batch_size=200, seed=123, validation_split=0.15,\n",
    "                                       subset='validation', labels ='inferred', color_mode='rgb', label_mode='categorical')  "
   ]
  },
  {
   "cell_type": "code",
   "execution_count": 4,
   "id": "03739932-5475-47d4-92f0-e3a5278ffc66",
   "metadata": {},
   "outputs": [
    {
     "data": {
      "text/plain": [
       "['label_!', 'label_(', 'label_)', 'label_+', 'label_,']"
      ]
     },
     "execution_count": 4,
     "metadata": {},
     "output_type": "execute_result"
    }
   ],
   "source": [
    "train_ds.class_names[:5]"
   ]
  },
  {
   "cell_type": "code",
   "execution_count": 5,
   "id": "e538f926-c23a-48c9-94b7-fc7238044ec7",
   "metadata": {},
   "outputs": [],
   "source": [
    "#save the class names in a .txt file that I can use in the prediction notebook\n",
    "with open('../class_names.txt', 'w') as f:\n",
    "    for i, label in enumerate(train_ds.class_names):\n",
    "        f.write(str(i)+  ' ' + label + '\\n')\n",
    "        "
   ]
  },
  {
   "cell_type": "code",
   "execution_count": 6,
   "id": "18858742-b54d-4b01-87e7-8c0f9646eb2a",
   "metadata": {},
   "outputs": [],
   "source": [
    "img_list = []\n",
    "for images, labels in train_ds.take(1):\n",
    "    for i in range(30):\n",
    "        img_list.append(images[i])\n"
   ]
  },
  {
   "cell_type": "code",
   "execution_count": 11,
   "id": "49053b1c-4992-46f3-9809-294971a4c149",
   "metadata": {},
   "outputs": [
    {
     "name": "stderr",
     "output_type": "stream",
     "text": [
      "Clipping input data to the valid range for imshow with RGB data ([0..1] for floats or [0..255] for integers).\n"
     ]
    },
    {
     "data": {
      "text/plain": [
       "<matplotlib.image.AxesImage at 0x7fd11ed8d130>"
      ]
     },
     "execution_count": 11,
     "metadata": {},
     "output_type": "execute_result"
    },
    {
     "data": {
      "image/png": "[encoded data removed]",
      "text/plain": [
       "<Figure size 640x480 with 1 Axes>"
      ]
     },
     "metadata": {},
     "output_type": "display_data"
    }
   ],
   "source": [
    "plt.imshow(img_list[3][:], cmap='gray')"
   ]
  },
  {
   "cell_type": "code",
   "execution_count": 12,
   "id": "e8c966a2-2f01-4348-ba55-eee6f746d504",
   "metadata": {},
   "outputs": [],
   "source": [
    "es = EarlyStopping(patience=5)"
   ]
  },
  {
   "cell_type": "code",
   "execution_count": 13,
   "id": "df7b8990-e181-425f-9e7a-316f186be278",
   "metadata": {},
   "outputs": [
    {
     "name": "stdout",
     "output_type": "stream",
     "text": [
      "Model: \"sequential\"\n",
      "_________________________________________________________________\n",
      " Layer (type)                Output Shape              Param #   \n",
      "=================================================================\n",
      " efficientnetb0 (Functional)  (None, 1280)             4049571   \n",
      "                                                                 \n",
      " dropout (Dropout)           (None, 1280)              0         \n",
      "                                                                 \n",
      " dense (Dense)               (None, 32)                40992     \n",
      "                                                                 \n",
      " dense_1 (Dense)             (None, 100)               3300      \n",
      "                                                                 \n",
      "=================================================================\n",
      "Total params: 4,093,863\n",
      "Trainable params: 4,051,840\n",
      "Non-trainable params: 42,023\n",
      "_________________________________________________________________\n"
     ]
    }
   ],
   "source": [
    "efficient_net = EfficientNetB0(\n",
    "    weights='imagenet',\n",
    "    input_shape=(100, 100, 3),\n",
    "    include_top=False,\n",
    "    pooling='max'\n",
    ")\n",
    "\n",
    "model = Sequential()\n",
    "model.add(efficient_net)\n",
    "model.add(Dropout(0.25))\n",
    "model.add(Dense(units = 32, activation='relu'))\n",
    "model.add(Dense(units = 100, activation='softmax'))\n",
    "model.summary()\n",
    "\n",
    "\n",
    "model.compile(\n",
    "    optimizer=Adam(learning_rate = 0.0005),\n",
    "    loss=\"categorical_crossentropy\",\n",
    "    metrics=['accuracy']\n",
    ")"
   ]
  },
  {
   "cell_type": "code",
   "execution_count": 14,
   "id": "cc6d7cb9-feb3-4ce1-a8e1-b24c41dfcbcd",
   "metadata": {},
   "outputs": [
    {
     "name": "stdout",
     "output_type": "stream",
     "text": [
      "Epoch 1/30\n",
      "396/396 [==============================] - 1311s 3s/step - loss: 0.8973 - accuracy: 0.8047 - val_loss: 0.3688 - val_accuracy: 0.9106\n",
      "Epoch 2/30\n",
      "396/396 [==============================] - 1269s 3s/step - loss: 0.2417 - accuracy: 0.9331 - val_loss: 0.2135 - val_accuracy: 0.9388\n",
      "Epoch 3/30\n",
      "396/396 [==============================] - 1252s 3s/step - loss: 0.1810 - accuracy: 0.9459 - val_loss: 0.2019 - val_accuracy: 0.9436\n",
      "Epoch 4/30\n",
      "396/396 [==============================] - 1238s 3s/step - loss: 0.1581 - accuracy: 0.9506 - val_loss: 0.2022 - val_accuracy: 0.9434\n",
      "Epoch 5/30\n",
      "396/396 [==============================] - 1238s 3s/step - loss: 0.1355 - accuracy: 0.9569 - val_loss: 0.1826 - val_accuracy: 0.9490\n",
      "Epoch 6/30\n",
      "396/396 [==============================] - 1247s 3s/step - loss: 0.1235 - accuracy: 0.9603 - val_loss: 0.1821 - val_accuracy: 0.9503\n",
      "Epoch 7/30\n",
      "396/396 [==============================] - 1247s 3s/step - loss: 0.1154 - accuracy: 0.9631 - val_loss: 0.1873 - val_accuracy: 0.9473\n",
      "Epoch 8/30\n",
      "396/396 [==============================] - 1249s 3s/step - loss: 0.1075 - accuracy: 0.9643 - val_loss: 0.1954 - val_accuracy: 0.9483\n",
      "Epoch 9/30\n",
      "396/396 [==============================] - 1244s 3s/step - loss: 0.0992 - accuracy: 0.9667 - val_loss: 0.1923 - val_accuracy: 0.9495\n",
      "Epoch 10/30\n",
      "396/396 [==============================] - 1244s 3s/step - loss: 0.0899 - accuracy: 0.9703 - val_loss: 0.1987 - val_accuracy: 0.9500\n",
      "Epoch 11/30\n",
      "396/396 [==============================] - 1244s 3s/step - loss: 0.0858 - accuracy: 0.9712 - val_loss: 0.1916 - val_accuracy: 0.9508\n"
     ]
    }
   ],
   "source": [
    "h = model.fit(train_ds, validation_data=val_ds, epochs=30, callbacks=[es])"
   ]
  },
  {
   "cell_type": "code",
   "execution_count": 15,
   "id": "f0ad0245-fde9-42c8-ab86-881229cd005e",
   "metadata": {},
   "outputs": [],
   "source": [
    "model_dir = '../CNN_model'\n",
    "if os.path.isdir(model_dir) == False: os.mkdir(model_dir)"
   ]
  },
  {
   "cell_type": "code",
   "execution_count": 16,
   "id": "5e74aed0-ae5d-4398-b5ad-a0ab0c3aa6a8",
   "metadata": {},
   "outputs": [],
   "source": [
    "model.save(model_dir + '/efficientnet_model.h5')"
   ]
  },
  {
   "cell_type": "code",
   "execution_count": 17,
   "id": "897a65fd-8c45-4f6b-8952-aa81deeb2c76",
   "metadata": {},
   "outputs": [
    {
     "name": "stdout",
     "output_type": "stream",
     "text": [
      "Model: \"sequential\"\n",
      "_________________________________________________________________\n",
      " Layer (type)                Output Shape              Param #   \n",
      "=================================================================\n",
      " efficientnetb0 (Functional)  (None, 1280)             4049571   \n",
      "                                                                 \n",
      " dropout (Dropout)           (None, 1280)              0         \n",
      "                                                                 \n",
      " dense (Dense)               (None, 32)                40992     \n",
      "                                                                 \n",
      " dense_1 (Dense)             (None, 100)               3300      \n",
      "                                                                 \n",
      "=================================================================\n",
      "Total params: 4,093,863\n",
      "Trainable params: 4,051,840\n",
      "Non-trainable params: 42,023\n",
      "_________________________________________________________________\n"
     ]
    }
   ],
   "source": [
    "model.summary()"
   ]
  },
  {
   "cell_type": "code",
   "execution_count": null,
   "id": "7b3dc348-1192-43b8-84bb-9a18bac6ce7c",
   "metadata": {},
   "outputs": [],
   "source": []
  }
 ],
 "metadata": {
  "kernelspec": {
   "display_name": "Python 3 (ipykernel)",
   "language": "python",
   "name": "python3"
  },
  "language_info": {
   "codemirror_mode": {
    "name": "ipython",
    "version": 3
   },
   "file_extension": ".py",
   "mimetype": "text/x-python",
   "name": "python",
   "nbconvert_exporter": "python",
   "pygments_lexer": "ipython3",
   "version": "3.8.8"
  }
 },
 "nbformat": 4,
 "nbformat_minor": 5
}
