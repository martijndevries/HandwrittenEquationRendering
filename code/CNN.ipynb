{
 "cells": [
  {
   "cell_type": "markdown",
   "id": "c6fab769-7359-4a8a-bd3f-0f2ff464231c",
   "metadata": {},
   "source": [
    "# EfficientNet CNN\n",
    "\n",
    "Notebook by Martijn de Vries <br>\n",
    "martijndevries91@gmail.com"
   ]
  },
  {
   "cell_type": "markdown",
   "id": "ddbb251d-5b88-4f2a-ab17-c62a89ce4559",
   "metadata": {},
   "source": [
    "NOTE: the EfficientNetB0 model that I use in this notebook has trouble saving with some version of tensorflow (probably 2.10 and higher) <br>\n",
    "I used the following fix to make it work on my machine (found in the comments here: https://github.com/keras-team/keras/issues/17199):\n",
    "\n",
    "location: lib/python3.10/site-packages/keras/applications/efficientnet.py (py3.10) <br>\n",
    "EDIT this: <br>\n",
    "<code> x = layers.Rescaling(1.0 / tf.math.sqrt(IMAGENET_STDDEV_RGB))(x) </code> <br>\n",
    "TO: <br>\n",
    "<code> x = layers.Rescaling(\n",
    "    [1.0 / math.sqrt(stddev) for stddev in IMAGENET_STDDEV_RGB]\n",
    ")(x) </code>\n",
    "\n"
   ]
  },
  {
   "cell_type": "code",
   "execution_count": 38,
   "id": "e447d2cd-c9aa-4237-a1b8-bafff7ed7028",
   "metadata": {},
   "outputs": [],
   "source": [
    "import matplotlib.pyplot as plt\n",
    "import pandas as pd\n",
    "import numpy as np\n",
    "\n",
    "#tensorflow\n",
    "from tensorflow.keras.preprocessing import image_dataset_from_directory\n",
    "from tensorflow.keras.preprocessing.image import img_to_array, load_img, smart_resize\n",
    "from tensorflow.keras.layers import Dense, Dropout, Flatten, Conv2D, MaxPooling2D\n",
    "from tensorflow.keras.models import Sequential\n",
    "from tensorflow.keras import layers\n",
    "from tensorflow.keras.optimizers import Adam\n",
    "from tensorflow.keras import regularizers\n",
    "from tensorflow.keras.callbacks import EarlyStopping"
   ]
  },
  {
   "cell_type": "code",
   "execution_count": 39,
   "id": "2c2f67c6-68f8-476d-8131-4547fec34e85",
   "metadata": {},
   "outputs": [],
   "source": [
    "from tensorflow.keras.applications import EfficientNetB0"
   ]
  },
  {
   "cell_type": "markdown",
   "id": "14a360b6-1216-4c74-9741-53817ce1c27a",
   "metadata": {},
   "source": [
    "I can use image_dataset_from_directory to load in the images. How many images are there in each label?"
   ]
  },
  {
   "cell_type": "code",
   "execution_count": null,
   "id": "ad88a78c-df36-404d-9afe-f2efd86cb5bc",
   "metadata": {},
   "outputs": [],
   "source": []
  },
  {
   "cell_type": "code",
   "execution_count": 40,
   "id": "e41751b1-f19a-4bd4-9088-50d646458e66",
   "metadata": {},
   "outputs": [
    {
     "name": "stdout",
     "output_type": "stream",
     "text": [
      "Found 93059 files belonging to 100 classes.\n",
      "Using 79101 files for training.\n",
      "Found 93059 files belonging to 100 classes.\n",
      "Using 13958 files for validation.\n"
     ]
    }
   ],
   "source": [
    "train_ds = image_dataset_from_directory('../processed_images/', image_size=(100,100),\n",
    "                                      batch_size=200, seed=123, validation_split=0.15,\n",
    "                                       subset='training', labels ='inferred', color_mode='rgb', label_mode='categorical')  \n",
    "\n",
    "val_ds = image_dataset_from_directory('../processed_images/', image_size=(100,100),\n",
    "                                      batch_size=200, seed=123, validation_split=0.15,\n",
    "                                       subset='validation', labels ='inferred', color_mode='rgb', label_mode='categorical')  "
   ]
  },
  {
   "cell_type": "code",
   "execution_count": 41,
   "id": "10b9018c-ad5b-42b6-9e67-e81ae5e33112",
   "metadata": {},
   "outputs": [],
   "source": [
    "#train_ds.class_names"
   ]
  },
  {
   "cell_type": "code",
   "execution_count": 42,
   "id": "e8c966a2-2f01-4348-ba55-eee6f746d504",
   "metadata": {},
   "outputs": [],
   "source": [
    "es = EarlyStopping(patience=5)"
   ]
  },
  {
   "cell_type": "code",
   "execution_count": 45,
   "id": "df7b8990-e181-425f-9e7a-316f186be278",
   "metadata": {},
   "outputs": [
    {
     "name": "stdout",
     "output_type": "stream",
     "text": [
      "Model: \"sequential_9\"\n",
      "_________________________________________________________________\n",
      " Layer (type)                Output Shape              Param #   \n",
      "=================================================================\n",
      " efficientnetb0 (Functional)  (None, 1280)             4049571   \n",
      "                                                                 \n",
      " dropout_6 (Dropout)         (None, 1280)              0         \n",
      "                                                                 \n",
      " dense_20 (Dense)            (None, 32)                40992     \n",
      "                                                                 \n",
      " dense_21 (Dense)            (None, 100)               3300      \n",
      "                                                                 \n",
      "=================================================================\n",
      "Total params: 4,093,863\n",
      "Trainable params: 4,051,840\n",
      "Non-trainable params: 42,023\n",
      "_________________________________________________________________\n"
     ]
    }
   ],
   "source": [
    "efficient_net = EfficientNetB0(\n",
    "    weights='imagenet',\n",
    "    input_shape=(100, 100, 3),\n",
    "    include_top=False,\n",
    "    pooling='max'\n",
    ")\n",
    "\n",
    "model = Sequential()\n",
    "model.add(efficient_net)\n",
    "model.add(Dropout(0.25))\n",
    "model.add(Dense(units = 32, activation='relu'))\n",
    "model.add(Dense(units = 100, activation='softmax'))\n",
    "model.summary()\n",
    "\n",
    "\n",
    "model.compile(\n",
    "    optimizer=Adam(learning_rate = 0.0005),\n",
    "    loss=\"categorical_crossentropy\",\n",
    "    metrics=['accuracy']\n",
    ")"
   ]
  },
  {
   "cell_type": "code",
   "execution_count": 46,
   "id": "cc6d7cb9-feb3-4ce1-a8e1-b24c41dfcbcd",
   "metadata": {},
   "outputs": [
    {
     "name": "stdout",
     "output_type": "stream",
     "text": [
      "Epoch 1/30\n",
      "396/396 [==============================] - 1347s 3s/step - loss: 0.8969 - accuracy: 0.8009 - val_loss: 0.6130 - val_accuracy: 0.8420\n",
      "Epoch 2/30\n",
      "396/396 [==============================] - 1285s 3s/step - loss: 0.2663 - accuracy: 0.9242 - val_loss: 0.2543 - val_accuracy: 0.9304\n",
      "Epoch 3/30\n",
      "396/396 [==============================] - 1313s 3s/step - loss: 0.1939 - accuracy: 0.9408 - val_loss: 0.2190 - val_accuracy: 0.9423\n",
      "Epoch 4/30\n",
      "396/396 [==============================] - 1307s 3s/step - loss: 0.1633 - accuracy: 0.9494 - val_loss: 0.2241 - val_accuracy: 0.9409\n",
      "Epoch 5/30\n",
      "396/396 [==============================] - 1306s 3s/step - loss: 0.1493 - accuracy: 0.9522 - val_loss: 0.2331 - val_accuracy: 0.9363\n",
      "Epoch 6/30\n",
      "396/396 [==============================] - 1280s 3s/step - loss: 0.1320 - accuracy: 0.9567 - val_loss: 0.2173 - val_accuracy: 0.9428\n",
      "Epoch 7/30\n",
      "396/396 [==============================] - 1268s 3s/step - loss: 0.1178 - accuracy: 0.9619 - val_loss: 0.2248 - val_accuracy: 0.9421\n",
      "Epoch 8/30\n",
      "396/396 [==============================] - 1269s 3s/step - loss: 0.1132 - accuracy: 0.9627 - val_loss: 0.2005 - val_accuracy: 0.9481\n",
      "Epoch 9/30\n",
      "396/396 [==============================] - 1267s 3s/step - loss: 0.1020 - accuracy: 0.9652 - val_loss: 0.2326 - val_accuracy: 0.9445\n",
      "Epoch 10/30\n",
      "396/396 [==============================] - 1265s 3s/step - loss: 0.0880 - accuracy: 0.9700 - val_loss: 0.2872 - val_accuracy: 0.9296\n",
      "Epoch 11/30\n",
      "396/396 [==============================] - 1277s 3s/step - loss: 0.0857 - accuracy: 0.9715 - val_loss: 0.2494 - val_accuracy: 0.9448\n",
      "Epoch 12/30\n",
      "396/396 [==============================] - 1263s 3s/step - loss: 0.0802 - accuracy: 0.9730 - val_loss: 0.2206 - val_accuracy: 0.9518\n",
      "Epoch 13/30\n",
      "396/396 [==============================] - 1268s 3s/step - loss: 0.0736 - accuracy: 0.9757 - val_loss: 0.2516 - val_accuracy: 0.9486\n"
     ]
    }
   ],
   "source": [
    "h = model.fit(train_ds, validation_data=val_ds, epochs=30, callbacks=[es])"
   ]
  },
  {
   "cell_type": "code",
   "execution_count": null,
   "id": "5e74aed0-ae5d-4398-b5ad-a0ab0c3aa6a8",
   "metadata": {},
   "outputs": [],
   "source": []
  }
 ],
 "metadata": {
  "kernelspec": {
   "display_name": "Python 3 (ipykernel)",
   "language": "python",
   "name": "python3"
  },
  "language_info": {
   "codemirror_mode": {
    "name": "ipython",
    "version": 3
   },
   "file_extension": ".py",
   "mimetype": "text/x-python",
   "name": "python",
   "nbconvert_exporter": "python",
   "pygments_lexer": "ipython3",
   "version": "3.8.8"
  }
 },
 "nbformat": 4,
 "nbformat_minor": 5
}
